{
 "cells": [
  {
   "cell_type": "code",
   "execution_count": 5,
   "metadata": {
    "collapsed": true
   },
   "outputs": [],
   "source": [
    "import pandas as pd\n",
    "import numpy as np\n",
    "import warnings\n",
    "warnings.filterwarnings(\"ignore\")"
   ]
  },
  {
   "cell_type": "code",
   "execution_count": 6,
   "metadata": {},
   "outputs": [
    {
     "data": {
      "text/html": [
       "<div>\n",
       "<style>\n",
       "    .dataframe thead tr:only-child th {\n",
       "        text-align: right;\n",
       "    }\n",
       "\n",
       "    .dataframe thead th {\n",
       "        text-align: left;\n",
       "    }\n",
       "\n",
       "    .dataframe tbody tr th {\n",
       "        vertical-align: top;\n",
       "    }\n",
       "</style>\n",
       "<table border=\"1\" class=\"dataframe\">\n",
       "  <thead>\n",
       "    <tr style=\"text-align: right;\">\n",
       "      <th></th>\n",
       "      <th>State_99039</th>\n",
       "      <th>Zip_Code_99040</th>\n",
       "      <th>Zip4_Code_99041</th>\n",
       "      <th>Len_of_Residence_90300</th>\n",
       "      <th>Marital_Status_90301</th>\n",
       "      <th>Dwelling_Type_90302</th>\n",
       "      <th>Homeowner_Renter_90303</th>\n",
       "      <th>Gender_Code_90304</th>\n",
       "      <th>Age_Range_90305</th>\n",
       "      <th>Num_Adults_HH_90306</th>\n",
       "      <th>...</th>\n",
       "      <th>other22_times_shopped_30_days</th>\n",
       "      <th>other22_shopped_3_mos</th>\n",
       "      <th>other23_times_shopped_30_days</th>\n",
       "      <th>other23_shopped_3_mos</th>\n",
       "      <th>other24_times_shopped_30_days</th>\n",
       "      <th>other24_shopped_3_mos</th>\n",
       "      <th>other25_times_shopped_30_days</th>\n",
       "      <th>other25_shopped_3_mos</th>\n",
       "      <th>other26_times_shopped_30_days</th>\n",
       "      <th>other26_shopped_3_mos</th>\n",
       "    </tr>\n",
       "    <tr>\n",
       "      <th>dataright_seq</th>\n",
       "      <th></th>\n",
       "      <th></th>\n",
       "      <th></th>\n",
       "      <th></th>\n",
       "      <th></th>\n",
       "      <th></th>\n",
       "      <th></th>\n",
       "      <th></th>\n",
       "      <th></th>\n",
       "      <th></th>\n",
       "      <th></th>\n",
       "      <th></th>\n",
       "      <th></th>\n",
       "      <th></th>\n",
       "      <th></th>\n",
       "      <th></th>\n",
       "      <th></th>\n",
       "      <th></th>\n",
       "      <th></th>\n",
       "      <th></th>\n",
       "      <th></th>\n",
       "    </tr>\n",
       "  </thead>\n",
       "  <tbody>\n",
       "    <tr>\n",
       "      <th>2517</th>\n",
       "      <td>CT</td>\n",
       "      <td>6604</td>\n",
       "      <td>2004.0</td>\n",
       "      <td>NaN</td>\n",
       "      <td>NaN</td>\n",
       "      <td>S</td>\n",
       "      <td>O</td>\n",
       "      <td>M</td>\n",
       "      <td>A</td>\n",
       "      <td>5.0</td>\n",
       "      <td>...</td>\n",
       "      <td>NaN</td>\n",
       "      <td>0</td>\n",
       "      <td>NaN</td>\n",
       "      <td>0</td>\n",
       "      <td>C</td>\n",
       "      <td>1</td>\n",
       "      <td>NaN</td>\n",
       "      <td>0</td>\n",
       "      <td>NaN</td>\n",
       "      <td>0</td>\n",
       "    </tr>\n",
       "    <tr>\n",
       "      <th>2518</th>\n",
       "      <td>CT</td>\n",
       "      <td>6604</td>\n",
       "      <td>2004.0</td>\n",
       "      <td>1.0</td>\n",
       "      <td>NaN</td>\n",
       "      <td>S</td>\n",
       "      <td>NaN</td>\n",
       "      <td>F</td>\n",
       "      <td>D</td>\n",
       "      <td>NaN</td>\n",
       "      <td>...</td>\n",
       "      <td>NaN</td>\n",
       "      <td>0</td>\n",
       "      <td>NaN</td>\n",
       "      <td>0</td>\n",
       "      <td>C</td>\n",
       "      <td>1</td>\n",
       "      <td>NaN</td>\n",
       "      <td>0</td>\n",
       "      <td>NaN</td>\n",
       "      <td>0</td>\n",
       "    </tr>\n",
       "    <tr>\n",
       "      <th>2519</th>\n",
       "      <td>CT</td>\n",
       "      <td>6604</td>\n",
       "      <td>2003.0</td>\n",
       "      <td>15.0</td>\n",
       "      <td>NaN</td>\n",
       "      <td>M</td>\n",
       "      <td>R</td>\n",
       "      <td>F</td>\n",
       "      <td>D</td>\n",
       "      <td>1.0</td>\n",
       "      <td>...</td>\n",
       "      <td>NaN</td>\n",
       "      <td>0</td>\n",
       "      <td>NaN</td>\n",
       "      <td>0</td>\n",
       "      <td>NaN</td>\n",
       "      <td>0</td>\n",
       "      <td>NaN</td>\n",
       "      <td>0</td>\n",
       "      <td>NaN</td>\n",
       "      <td>0</td>\n",
       "    </tr>\n",
       "    <tr>\n",
       "      <th>2521</th>\n",
       "      <td>CT</td>\n",
       "      <td>6604</td>\n",
       "      <td>2004.0</td>\n",
       "      <td>15.0</td>\n",
       "      <td>M</td>\n",
       "      <td>S</td>\n",
       "      <td>O</td>\n",
       "      <td>F</td>\n",
       "      <td>D</td>\n",
       "      <td>5.0</td>\n",
       "      <td>...</td>\n",
       "      <td>NaN</td>\n",
       "      <td>0</td>\n",
       "      <td>NaN</td>\n",
       "      <td>0</td>\n",
       "      <td>NaN</td>\n",
       "      <td>0</td>\n",
       "      <td>NaN</td>\n",
       "      <td>0</td>\n",
       "      <td>NaN</td>\n",
       "      <td>0</td>\n",
       "    </tr>\n",
       "    <tr>\n",
       "      <th>2522</th>\n",
       "      <td>CT</td>\n",
       "      <td>6604</td>\n",
       "      <td>2003.0</td>\n",
       "      <td>15.0</td>\n",
       "      <td>NaN</td>\n",
       "      <td>S</td>\n",
       "      <td>NaN</td>\n",
       "      <td>M</td>\n",
       "      <td>D</td>\n",
       "      <td>4.0</td>\n",
       "      <td>...</td>\n",
       "      <td>NaN</td>\n",
       "      <td>0</td>\n",
       "      <td>NaN</td>\n",
       "      <td>0</td>\n",
       "      <td>NaN</td>\n",
       "      <td>0</td>\n",
       "      <td>NaN</td>\n",
       "      <td>0</td>\n",
       "      <td>NaN</td>\n",
       "      <td>0</td>\n",
       "    </tr>\n",
       "  </tbody>\n",
       "</table>\n",
       "<p>5 rows × 679 columns</p>\n",
       "</div>"
      ],
      "text/plain": [
       "              State_99039  Zip_Code_99040  Zip4_Code_99041  \\\n",
       "dataright_seq                                                \n",
       "2517                   CT            6604           2004.0   \n",
       "2518                   CT            6604           2004.0   \n",
       "2519                   CT            6604           2003.0   \n",
       "2521                   CT            6604           2004.0   \n",
       "2522                   CT            6604           2003.0   \n",
       "\n",
       "               Len_of_Residence_90300 Marital_Status_90301  \\\n",
       "dataright_seq                                                \n",
       "2517                              NaN                  NaN   \n",
       "2518                              1.0                  NaN   \n",
       "2519                             15.0                  NaN   \n",
       "2521                             15.0                    M   \n",
       "2522                             15.0                  NaN   \n",
       "\n",
       "              Dwelling_Type_90302 Homeowner_Renter_90303 Gender_Code_90304  \\\n",
       "dataright_seq                                                                \n",
       "2517                            S                      O                 M   \n",
       "2518                            S                    NaN                 F   \n",
       "2519                            M                      R                 F   \n",
       "2521                            S                      O                 F   \n",
       "2522                            S                    NaN                 M   \n",
       "\n",
       "              Age_Range_90305  Num_Adults_HH_90306          ...           \\\n",
       "dataright_seq                                               ...            \n",
       "2517                        A                  5.0          ...            \n",
       "2518                        D                  NaN          ...            \n",
       "2519                        D                  1.0          ...            \n",
       "2521                        D                  5.0          ...            \n",
       "2522                        D                  4.0          ...            \n",
       "\n",
       "               other22_times_shopped_30_days other22_shopped_3_mos  \\\n",
       "dataright_seq                                                        \n",
       "2517                                     NaN                     0   \n",
       "2518                                     NaN                     0   \n",
       "2519                                     NaN                     0   \n",
       "2521                                     NaN                     0   \n",
       "2522                                     NaN                     0   \n",
       "\n",
       "              other23_times_shopped_30_days other23_shopped_3_mos  \\\n",
       "dataright_seq                                                       \n",
       "2517                                    NaN                     0   \n",
       "2518                                    NaN                     0   \n",
       "2519                                    NaN                     0   \n",
       "2521                                    NaN                     0   \n",
       "2522                                    NaN                     0   \n",
       "\n",
       "              other24_times_shopped_30_days other24_shopped_3_mos  \\\n",
       "dataright_seq                                                       \n",
       "2517                                      C                     1   \n",
       "2518                                      C                     1   \n",
       "2519                                    NaN                     0   \n",
       "2521                                    NaN                     0   \n",
       "2522                                    NaN                     0   \n",
       "\n",
       "              other25_times_shopped_30_days other25_shopped_3_mos  \\\n",
       "dataright_seq                                                       \n",
       "2517                                    NaN                     0   \n",
       "2518                                    NaN                     0   \n",
       "2519                                    NaN                     0   \n",
       "2521                                    NaN                     0   \n",
       "2522                                    NaN                     0   \n",
       "\n",
       "              other26_times_shopped_30_days other26_shopped_3_mos  \n",
       "dataright_seq                                                      \n",
       "2517                                    NaN                     0  \n",
       "2518                                    NaN                     0  \n",
       "2519                                    NaN                     0  \n",
       "2521                                    NaN                     0  \n",
       "2522                                    NaN                     0  \n",
       "\n",
       "[5 rows x 679 columns]"
      ]
     },
     "execution_count": 6,
     "metadata": {},
     "output_type": "execute_result"
    }
   ],
   "source": [
    "df=pd.read_csv(\"utdallas_contest_data-3.csv\", index_col=3)\n",
    "df = df.drop(['Unnamed: 0', 'wgtpop', 'wgthh', 'match', 'match_level_1'], axis=1)\n",
    "df.head()"
   ]
  },
  {
   "cell_type": "code",
   "execution_count": 7,
   "metadata": {},
   "outputs": [
    {
     "data": {
      "text/plain": [
       "(35966, 679)"
      ]
     },
     "execution_count": 7,
     "metadata": {},
     "output_type": "execute_result"
    }
   ],
   "source": [
    "df.shape"
   ]
  },
  {
   "cell_type": "code",
   "execution_count": 8,
   "metadata": {
    "collapsed": true
   },
   "outputs": [],
   "source": [
    "transaction=df.iloc[:,611:]\n",
    "profiling=df.iloc[:,:611]"
   ]
  },
  {
   "cell_type": "code",
   "execution_count": 9,
   "metadata": {
    "collapsed": true
   },
   "outputs": [],
   "source": [
    "transaction_cloumn = list(transaction.columns)"
   ]
  },
  {
   "cell_type": "code",
   "execution_count": 10,
   "metadata": {
    "collapsed": true
   },
   "outputs": [],
   "source": [
    "null_percent =pd.DataFrame(profiling.isnull().sum()/profiling.shape[0], columns=['percent'])"
   ]
  },
  {
   "cell_type": "code",
   "execution_count": 11,
   "metadata": {
    "collapsed": true
   },
   "outputs": [],
   "source": [
    "# null_percent.sort_values(by=['percent'], ascending=False)"
   ]
  },
  {
   "cell_type": "code",
   "execution_count": 12,
   "metadata": {
    "collapsed": true
   },
   "outputs": [],
   "source": [
    "too_many_null = null_percent[null_percent['percent']>0.30]"
   ]
  },
  {
   "cell_type": "code",
   "execution_count": 13,
   "metadata": {},
   "outputs": [
    {
     "data": {
      "text/plain": [
       "(461, 1)"
      ]
     },
     "execution_count": 13,
     "metadata": {},
     "output_type": "execute_result"
    }
   ],
   "source": [
    "too_many_null.shape"
   ]
  },
  {
   "cell_type": "code",
   "execution_count": 14,
   "metadata": {
    "collapsed": true
   },
   "outputs": [],
   "source": [
    "too_many_null_list = list(too_many_null.index)"
   ]
  },
  {
   "cell_type": "code",
   "execution_count": 15,
   "metadata": {
    "collapsed": true
   },
   "outputs": [],
   "source": [
    "df_2 = df.drop(too_many_null_list, axis=1)"
   ]
  },
  {
   "cell_type": "code",
   "execution_count": 16,
   "metadata": {},
   "outputs": [
    {
     "name": "stdout",
     "output_type": "stream",
     "text": [
      "The number of customers without bought the company's products:  20481\n"
     ]
    }
   ],
   "source": [
    "print('The number of customers without bought the company\\'s products: ',\n",
    "      df_2[(df_2['wc_bought_any']==0)&\n",
    "            (df_2['wc_big_ticket_bought_any']==0)&\n",
    "            (df_2['wc_low_ticket_bought_any']==0)].shape[0])"
   ]
  },
  {
   "cell_type": "code",
   "execution_count": 17,
   "metadata": {},
   "outputs": [
    {
     "name": "stdout",
     "output_type": "stream",
     "text": [
      "The number of customers only bought big ticket products:  368\n"
     ]
    }
   ],
   "source": [
    "print('The number of customers only bought big ticket products: ',\n",
    "      df_2[(df_2['wc_bought_any']==1)&\n",
    "            (df_2['wc_big_ticket_bought_any']==1)&\n",
    "            (df_2['wc_low_ticket_bought_any']==0)].shape[0])\n",
    "big=df_2[(df_2['wc_bought_any']==1)&\n",
    "            (df_2['wc_big_ticket_bought_any']==1)&\n",
    "            (df_2['wc_low_ticket_bought_any']==0)]\n",
    "big['tag']='big'"
   ]
  },
  {
   "cell_type": "code",
   "execution_count": 18,
   "metadata": {},
   "outputs": [
    {
     "name": "stdout",
     "output_type": "stream",
     "text": [
      "The number of customers only bought low ticket products:  8550\n"
     ]
    }
   ],
   "source": [
    "print('The number of customers only bought low ticket products: ',\n",
    "      df_2[(df_2['wc_bought_any']==1)&\n",
    "            (df_2['wc_big_ticket_bought_any']==0)&\n",
    "            (df_2['wc_low_ticket_bought_any']==1)].shape[0])\n",
    "low=df_2[(df_2['wc_bought_any']==1)&\n",
    "            (df_2['wc_big_ticket_bought_any']==0)&\n",
    "            (df_2['wc_low_ticket_bought_any']==1)]\n",
    "low['tag']='low'"
   ]
  },
  {
   "cell_type": "code",
   "execution_count": 19,
   "metadata": {},
   "outputs": [
    {
     "name": "stdout",
     "output_type": "stream",
     "text": [
      "The number of customers bought both big and low ticket products:  6567\n"
     ]
    }
   ],
   "source": [
    "print('The number of customers bought both big and low ticket products: ',\n",
    "      df_2[(df_2['wc_bought_any']==1)&\n",
    "            (df_2['wc_big_ticket_bought_any']==1)&\n",
    "            (df_2['wc_low_ticket_bought_any']==1)].shape[0])\n",
    "both=df_2[(df_2['wc_bought_any']==1)&\n",
    "            (df_2['wc_big_ticket_bought_any']==1)&\n",
    "            (df_2['wc_low_ticket_bought_any']==1)]\n",
    "both['tag']='both'"
   ]
  },
  {
   "cell_type": "code",
   "execution_count": 20,
   "metadata": {},
   "outputs": [
    {
     "name": "stdout",
     "output_type": "stream",
     "text": [
      "(15485, 151)\n",
      "(15485, 135)\n"
     ]
    }
   ],
   "source": [
    "df_2=pd.concat([big, low, both])\n",
    "df_3 = df_2.drop(transaction_cloumn, axis = 1)\n",
    "print(df_3.shape)\n",
    "df_3 = df_3.drop(['ZIP_Plus_4_U324009', 'Num_ReportingSource_U324073', 'ZIP4_Home_Value_U324093',\n",
    "          'Date_of_Birth_Mth_U324095', 'Date_of_Birth_Day_U324096', 'Date_of_Birth_Year_U324097',\n",
    "          'Ethnicity_U324577', 'ZIP_Code_U324008', 'Zip_Code_99040', 'Census_Coding_Lvl_U324049',\n",
    "                 'Zip4_Code_99041', 'Census_Block_Code_U324022', 'Cen_Basic_Tract_Num_U324019',\n",
    "                  'Census_Basic_BlkGrp_U324021', 'Cen_BasTrct_SbCdNum_U324020', 'Language_U324578'], axis = 1)\n",
    "print(df_3.shape)"
   ]
  },
  {
   "cell_type": "markdown",
   "metadata": {},
   "source": [
    "#### Age"
   ]
  },
  {
   "cell_type": "code",
   "execution_count": 1,
   "metadata": {},
   "outputs": [
    {
     "ename": "NameError",
     "evalue": "name 'df_3' is not defined",
     "output_type": "error",
     "traceback": [
      "\u001b[0;31m---------------------------------------------------------------------------\u001b[0m",
      "\u001b[0;31mNameError\u001b[0m                                 Traceback (most recent call last)",
      "\u001b[0;32m<ipython-input-1-81f6bb8afc8b>\u001b[0m in \u001b[0;36m<module>\u001b[0;34m()\u001b[0m\n\u001b[0;32m----> 1\u001b[0;31m df_3[['Age_Range_90305', 'Cen10_Med_Age_HHer_U324024', 'Age_Range_U324055',\n\u001b[0m\u001b[1;32m      2\u001b[0m       \u001b[0;34m'Age_U324094'\u001b[0m\u001b[0;34m]\u001b[0m\u001b[0;34m]\u001b[0m\u001b[0;34m.\u001b[0m\u001b[0misnull\u001b[0m\u001b[0;34m(\u001b[0m\u001b[0;34m)\u001b[0m\u001b[0;34m.\u001b[0m\u001b[0msum\u001b[0m\u001b[0;34m(\u001b[0m\u001b[0;34m)\u001b[0m\u001b[0;34m/\u001b[0m\u001b[0mdf_3\u001b[0m\u001b[0;34m[\u001b[0m\u001b[0;34m[\u001b[0m\u001b[0;34m'Age_Range_90305'\u001b[0m\u001b[0;34m,\u001b[0m\u001b[0;34m\u001b[0m\u001b[0m\n\u001b[1;32m      3\u001b[0m                                            'Cen10_Med_Age_HHer_U324024', 'Age_Range_U324055', 'Age_U324094']].shape[0]\n",
      "\u001b[0;31mNameError\u001b[0m: name 'df_3' is not defined"
     ]
    }
   ],
   "source": [
    "df_3[['Age_Range_90305', 'Cen10_Med_Age_HHer_U324024', 'Age_Range_U324055',\n",
    "      'Age_U324094']].isnull().sum()/df_3[['Age_Range_90305', \n",
    "                                           'Cen10_Med_Age_HHer_U324024', 'Age_Range_U324055', 'Age_U324094']].shape[0]"
   ]
  },
  {
   "cell_type": "code",
   "execution_count": 22,
   "metadata": {},
   "outputs": [
    {
     "data": {
      "text/plain": [
       "(15485, 135)"
      ]
     },
     "execution_count": 22,
     "metadata": {},
     "output_type": "execute_result"
    }
   ],
   "source": [
    "df_3.shape"
   ]
  },
  {
   "cell_type": "code",
   "execution_count": 23,
   "metadata": {
    "collapsed": true
   },
   "outputs": [],
   "source": [
    "def age_convert(x):\n",
    "    if x<=24:\n",
    "        return 'A'\n",
    "    elif 25<=x<=34:\n",
    "        return 'B'\n",
    "    elif 35<=x<=44:\n",
    "        return 'C'\n",
    "    elif 45<=x<=54:\n",
    "        return 'D'\n",
    "    elif 55<=x<=64:\n",
    "        return 'E'\n",
    "    elif 65<=x<=74:\n",
    "        return 'F'\n",
    "    else:\n",
    "        return 'G'"
   ]
  },
  {
   "cell_type": "code",
   "execution_count": 24,
   "metadata": {
    "collapsed": true
   },
   "outputs": [],
   "source": [
    "df_3['Cen10_Med_Age_HHer_U324024'] = df_3['Cen10_Med_Age_HHer_U324024'].map(age_convert)"
   ]
  },
  {
   "cell_type": "code",
   "execution_count": 25,
   "metadata": {
    "collapsed": true
   },
   "outputs": [],
   "source": [
    "df_3['Age_Range_90305'].fillna(df_3['Cen10_Med_Age_HHer_U324024'], inplace=True)"
   ]
  },
  {
   "cell_type": "code",
   "execution_count": 26,
   "metadata": {},
   "outputs": [
    {
     "data": {
      "text/plain": [
       "Age_Range_90305               0.000000\n",
       "Cen10_Med_Age_HHer_U324024    0.000000\n",
       "Age_Range_U324055             0.178495\n",
       "Age_U324094                   0.178495\n",
       "dtype: float64"
      ]
     },
     "execution_count": 26,
     "metadata": {},
     "output_type": "execute_result"
    }
   ],
   "source": [
    "df_3[['Age_Range_90305', 'Cen10_Med_Age_HHer_U324024', 'Age_Range_U324055',\n",
    "      'Age_U324094']].isnull().sum()/df_3[['Age_Range_90305', \n",
    "                                           'Cen10_Med_Age_HHer_U324024', 'Age_Range_U324055', 'Age_U324094']].shape[0]"
   ]
  },
  {
   "cell_type": "code",
   "execution_count": 27,
   "metadata": {
    "collapsed": true
   },
   "outputs": [],
   "source": [
    "df_3 = df_3.drop(['Cen10_Med_Age_HHer_U324024', 'Age_Range_U324055', 'Age_U324094'], axis = 1)"
   ]
  },
  {
   "cell_type": "code",
   "execution_count": 28,
   "metadata": {},
   "outputs": [
    {
     "data": {
      "text/plain": [
       "(15485, 132)"
      ]
     },
     "execution_count": 28,
     "metadata": {},
     "output_type": "execute_result"
    }
   ],
   "source": [
    "df_3.shape"
   ]
  },
  {
   "cell_type": "markdown",
   "metadata": {},
   "source": [
    "#### Gender"
   ]
  },
  {
   "cell_type": "code",
   "execution_count": 29,
   "metadata": {},
   "outputs": [
    {
     "data": {
      "text/plain": [
       "Gender_Code_90304    0.018599\n",
       "Gender_U324057       0.000000\n",
       "Gender1_99013        0.000000\n",
       "Gender2_99014        0.000000\n",
       "dtype: float64"
      ]
     },
     "execution_count": 29,
     "metadata": {},
     "output_type": "execute_result"
    }
   ],
   "source": [
    "df_3[['Gender_Code_90304', 'Gender_U324057', 'Gender1_99013', 'Gender2_99014']].isnull().sum()/df_3[['Gender_Code_90304', 'Gender_U324057', 'Gender1_99013', 'Gender2_99014']].shape[0]"
   ]
  },
  {
   "cell_type": "code",
   "execution_count": 30,
   "metadata": {},
   "outputs": [
    {
     "data": {
      "text/html": [
       "<div>\n",
       "<style>\n",
       "    .dataframe thead tr:only-child th {\n",
       "        text-align: right;\n",
       "    }\n",
       "\n",
       "    .dataframe thead th {\n",
       "        text-align: left;\n",
       "    }\n",
       "\n",
       "    .dataframe tbody tr th {\n",
       "        vertical-align: top;\n",
       "    }\n",
       "</style>\n",
       "<table border=\"1\" class=\"dataframe\">\n",
       "  <thead>\n",
       "    <tr style=\"text-align: right;\">\n",
       "      <th></th>\n",
       "      <th>Gender_Code_90304</th>\n",
       "      <th>Gender_U324057</th>\n",
       "      <th>Gender1_99013</th>\n",
       "      <th>Gender2_99014</th>\n",
       "    </tr>\n",
       "    <tr>\n",
       "      <th>dataright_seq</th>\n",
       "      <th></th>\n",
       "      <th></th>\n",
       "      <th></th>\n",
       "      <th></th>\n",
       "    </tr>\n",
       "  </thead>\n",
       "  <tbody>\n",
       "    <tr>\n",
       "      <th>3014</th>\n",
       "      <td>M</td>\n",
       "      <td>M</td>\n",
       "      <td>M</td>\n",
       "      <td>U</td>\n",
       "    </tr>\n",
       "    <tr>\n",
       "      <th>5968</th>\n",
       "      <td>NaN</td>\n",
       "      <td>M</td>\n",
       "      <td>U</td>\n",
       "      <td>U</td>\n",
       "    </tr>\n",
       "    <tr>\n",
       "      <th>5809</th>\n",
       "      <td>F</td>\n",
       "      <td>F</td>\n",
       "      <td>F</td>\n",
       "      <td>U</td>\n",
       "    </tr>\n",
       "    <tr>\n",
       "      <th>6540</th>\n",
       "      <td>M</td>\n",
       "      <td>M</td>\n",
       "      <td>M</td>\n",
       "      <td>U</td>\n",
       "    </tr>\n",
       "    <tr>\n",
       "      <th>7622</th>\n",
       "      <td>M</td>\n",
       "      <td>M</td>\n",
       "      <td>M</td>\n",
       "      <td>U</td>\n",
       "    </tr>\n",
       "  </tbody>\n",
       "</table>\n",
       "</div>"
      ],
      "text/plain": [
       "              Gender_Code_90304 Gender_U324057 Gender1_99013 Gender2_99014\n",
       "dataright_seq                                                             \n",
       "3014                          M              M             M             U\n",
       "5968                        NaN              M             U             U\n",
       "5809                          F              F             F             U\n",
       "6540                          M              M             M             U\n",
       "7622                          M              M             M             U"
      ]
     },
     "execution_count": 30,
     "metadata": {},
     "output_type": "execute_result"
    }
   ],
   "source": [
    "df_3[['Gender_Code_90304', 'Gender_U324057', 'Gender1_99013', 'Gender2_99014']].head()"
   ]
  },
  {
   "cell_type": "code",
   "execution_count": 31,
   "metadata": {
    "collapsed": true
   },
   "outputs": [],
   "source": [
    "df_3 = df_3.drop(['Gender_Code_90304', 'Gender1_99013', 'Gender2_99014'], axis = 1)"
   ]
  },
  {
   "cell_type": "code",
   "execution_count": 32,
   "metadata": {},
   "outputs": [
    {
     "data": {
      "text/plain": [
       "(15485, 129)"
      ]
     },
     "execution_count": 32,
     "metadata": {},
     "output_type": "execute_result"
    }
   ],
   "source": [
    "df_3.shape"
   ]
  },
  {
   "cell_type": "markdown",
   "metadata": {},
   "source": [
    "#### Home Owner Status"
   ]
  },
  {
   "cell_type": "code",
   "execution_count": 33,
   "metadata": {},
   "outputs": [
    {
     "data": {
      "text/plain": [
       "Homeowner_Renter_90303      0.074265\n",
       "Homeowner_Status_U324062    0.074265\n",
       "dtype: float64"
      ]
     },
     "execution_count": 33,
     "metadata": {},
     "output_type": "execute_result"
    }
   ],
   "source": [
    "df_3[['Homeowner_Renter_90303', 'Homeowner_Status_U324062']].isnull().sum()/df_3[['Homeowner_Renter_90303', 'Homeowner_Status_U324062']].shape[0]"
   ]
  },
  {
   "cell_type": "code",
   "execution_count": 34,
   "metadata": {},
   "outputs": [
    {
     "data": {
      "text/plain": [
       "array([0, 2])"
      ]
     },
     "execution_count": 34,
     "metadata": {},
     "output_type": "execute_result"
    }
   ],
   "source": [
    "pd.DataFrame(df_3[['Homeowner_Renter_90303', 'Homeowner_Status_U324062']].apply(lambda x: x.count(), axis=1))[0].unique()"
   ]
  },
  {
   "cell_type": "markdown",
   "metadata": {},
   "source": [
    "This outcome means the two columns have null values in the same row. So I can randomly delete one."
   ]
  },
  {
   "cell_type": "code",
   "execution_count": 35,
   "metadata": {
    "collapsed": true
   },
   "outputs": [],
   "source": [
    "df_3 = df_3.drop(['Homeowner_Renter_90303'], axis =1)"
   ]
  },
  {
   "cell_type": "code",
   "execution_count": 36,
   "metadata": {},
   "outputs": [
    {
     "data": {
      "text/plain": [
       "(15485, 128)"
      ]
     },
     "execution_count": 36,
     "metadata": {},
     "output_type": "execute_result"
    }
   ],
   "source": [
    "df_3.shape"
   ]
  },
  {
   "cell_type": "markdown",
   "metadata": {},
   "source": [
    "#### Dwelling Type"
   ]
  },
  {
   "cell_type": "code",
   "execution_count": 37,
   "metadata": {},
   "outputs": [
    {
     "data": {
      "text/plain": [
       "Dwelling_Type_90302      0.006458\n",
       "Dwelling_Type_U324063    0.000000\n",
       "dtype: float64"
      ]
     },
     "execution_count": 37,
     "metadata": {},
     "output_type": "execute_result"
    }
   ],
   "source": [
    "df_3[['Dwelling_Type_90302', 'Dwelling_Type_U324063']].isnull().sum()/df_3[['Dwelling_Type_90302', 'Dwelling_Type_U324063']].shape[0]"
   ]
  },
  {
   "cell_type": "code",
   "execution_count": 38,
   "metadata": {
    "collapsed": true
   },
   "outputs": [],
   "source": [
    "df_3 = df_3.drop(['Dwelling_Type_U324063'], axis =1)"
   ]
  },
  {
   "cell_type": "code",
   "execution_count": 39,
   "metadata": {},
   "outputs": [
    {
     "data": {
      "text/plain": [
       "(15485, 127)"
      ]
     },
     "execution_count": 39,
     "metadata": {},
     "output_type": "execute_result"
    }
   ],
   "source": [
    "df_3.shape"
   ]
  },
  {
   "cell_type": "markdown",
   "metadata": {},
   "source": [
    "#### Columns about family income"
   ]
  },
  {
   "cell_type": "code",
   "execution_count": 40,
   "metadata": {
    "collapsed": true
   },
   "outputs": [],
   "source": [
    "income = df_3[['Cen10_Med_HH_Inc_U324028', 'Cen10_Incom_Pctile_U324029', 'Cen10_MedHH_EffInc_U324039',\n",
    "              'Est_HH_Income_3_U324064', 'Est_Disc_Income_Pct_U324160', 'Dual_Income_Indx_3_U324067',\n",
    "              'Est_Disc_Income_Pct_U324160', 'Est_HH_Debt_Level_U324161',\n",
    "              'Est_HH_Invest_Asset_U324162']]"
   ]
  },
  {
   "cell_type": "code",
   "execution_count": 41,
   "metadata": {},
   "outputs": [
    {
     "data": {
      "text/plain": [
       "Cen10_Med_HH_Inc_U324028       0.0\n",
       "Cen10_Incom_Pctile_U324029     0.0\n",
       "Cen10_MedHH_EffInc_U324039     0.0\n",
       "Est_HH_Income_3_U324064        0.0\n",
       "Est_Disc_Income_Pct_U324160    0.0\n",
       "Dual_Income_Indx_3_U324067     0.0\n",
       "Est_Disc_Income_Pct_U324160    0.0\n",
       "Est_HH_Debt_Level_U324161      0.0\n",
       "Est_HH_Invest_Asset_U324162    0.0\n",
       "dtype: float64"
      ]
     },
     "execution_count": 41,
     "metadata": {},
     "output_type": "execute_result"
    }
   ],
   "source": [
    "income.isnull().sum()/income.shape[0]"
   ]
  },
  {
   "cell_type": "code",
   "execution_count": 42,
   "metadata": {},
   "outputs": [
    {
     "data": {
      "text/plain": [
       "(15485, 124)"
      ]
     },
     "execution_count": 42,
     "metadata": {},
     "output_type": "execute_result"
    }
   ],
   "source": [
    "df_3 = df_3 = df_3.drop(['Cen10_Med_HH_Inc_U324028', \n",
    "                         'Est_HH_Income_3_U324064', 'Est_Disc_Income_Pct_U324160'], axis =1)\n",
    "df_3.shape"
   ]
  },
  {
   "cell_type": "markdown",
   "metadata": {},
   "source": [
    "#### Home Networth"
   ]
  },
  {
   "cell_type": "code",
   "execution_count": 43,
   "metadata": {},
   "outputs": [
    {
     "data": {
      "text/plain": [
       "Networth_90312                0.000000\n",
       "Net_Worth_3_U324065           0.000000\n",
       "Home_Val_AddrLevel_U324158    0.187149\n",
       "dtype: float64"
      ]
     },
     "execution_count": 43,
     "metadata": {},
     "output_type": "execute_result"
    }
   ],
   "source": [
    "df_3[['Networth_90312',\n",
    "'Net_Worth_3_U324065',\n",
    "'Home_Val_AddrLevel_U324158']].isnull().sum()/df_3[['Networth_90312',\n",
    "'Net_Worth_3_U324065',\n",
    "'Home_Val_AddrLevel_U324158']].shape[0]"
   ]
  },
  {
   "cell_type": "code",
   "execution_count": 44,
   "metadata": {},
   "outputs": [
    {
     "data": {
      "text/plain": [
       "(15485, 123)"
      ]
     },
     "execution_count": 44,
     "metadata": {},
     "output_type": "execute_result"
    }
   ],
   "source": [
    "df_3 = df_3.drop(['Networth_90312'], axis = 1)\n",
    "df_3.shape"
   ]
  },
  {
   "cell_type": "markdown",
   "metadata": {},
   "source": [
    "#### Cildren"
   ]
  },
  {
   "cell_type": "code",
   "execution_count": 45,
   "metadata": {},
   "outputs": [
    {
     "data": {
      "text/plain": [
       "Household_Comp_U324163         0.215628\n",
       "Cen10_Pct_HH_w_Chld_U324037    0.000000\n",
       "Num_Persons_in_HH_U324072      0.146400\n",
       "Number_Children_U324074        0.000000\n",
       "dtype: float64"
      ]
     },
     "execution_count": 45,
     "metadata": {},
     "output_type": "execute_result"
    }
   ],
   "source": [
    "df_3[['Household_Comp_U324163', 'Cen10_Pct_HH_w_Chld_U324037', 'Num_Persons_in_HH_U324072',\n",
    "'Number_Children_U324074']].isnull().sum()/df_3[['Household_Comp_U324163', 'Cen10_Pct_HH_w_Chld_U324037', 'Num_Persons_in_HH_U324072',\n",
    "'Number_Children_U324074']].shape[0]"
   ]
  },
  {
   "cell_type": "code",
   "execution_count": 46,
   "metadata": {},
   "outputs": [
    {
     "data": {
      "text/plain": [
       "(15485, 122)"
      ]
     },
     "execution_count": 46,
     "metadata": {},
     "output_type": "execute_result"
    }
   ],
   "source": [
    "df_3 = df_3.drop(['Household_Comp_U324163'], axis = 1)\n",
    "df_3.shape"
   ]
  },
  {
   "cell_type": "markdown",
   "metadata": {},
   "source": [
    "#### Mail Order Respender"
   ]
  },
  {
   "cell_type": "code",
   "execution_count": 47,
   "metadata": {},
   "outputs": [
    {
     "data": {
      "text/plain": [
       "Mail_Order_Resp_90316          0.267226\n",
       "Mail_Order_Respnder_U324068    0.267226\n",
       "dtype: float64"
      ]
     },
     "execution_count": 47,
     "metadata": {},
     "output_type": "execute_result"
    }
   ],
   "source": [
    "df_3[['Mail_Order_Resp_90316', 'Mail_Order_Respnder_U324068']].isnull().sum()/df_3[['Mail_Order_Resp_90316', 'Mail_Order_Respnder_U324068']].shape[0]"
   ]
  },
  {
   "cell_type": "code",
   "execution_count": 48,
   "metadata": {},
   "outputs": [
    {
     "data": {
      "text/plain": [
       "array([0, 2])"
      ]
     },
     "execution_count": 48,
     "metadata": {},
     "output_type": "execute_result"
    }
   ],
   "source": [
    "pd.DataFrame(df_3[['Mail_Order_Resp_90316', 'Mail_Order_Respnder_U324068']].apply(lambda x: x.count(), axis=1))[0].unique()"
   ]
  },
  {
   "cell_type": "markdown",
   "metadata": {},
   "source": [
    "This outcome means the two columns have null values in the same row. So I can randomly delete one."
   ]
  },
  {
   "cell_type": "code",
   "execution_count": 49,
   "metadata": {},
   "outputs": [
    {
     "data": {
      "text/plain": [
       "(15485, 121)"
      ]
     },
     "execution_count": 49,
     "metadata": {},
     "output_type": "execute_result"
    }
   ],
   "source": [
    "df_3 = df_3.drop(['Mail_Order_Resp_90316'], axis =1)\n",
    "df_3.shape"
   ]
  },
  {
   "cell_type": "markdown",
   "metadata": {},
   "source": [
    "#### Number of adult"
   ]
  },
  {
   "cell_type": "code",
   "execution_count": 50,
   "metadata": {},
   "outputs": [
    {
     "data": {
      "text/plain": [
       "array([0, 3])"
      ]
     },
     "execution_count": 50,
     "metadata": {},
     "output_type": "execute_result"
    }
   ],
   "source": [
    "pd.DataFrame(df_3[['Num_Adults_HH_90306', 'Num_Adults_in_HH_U324071', 'Num_Persons_in_HH_U324072']].apply(lambda x: x.count(), axis=1))[0].unique()"
   ]
  },
  {
   "cell_type": "code",
   "execution_count": 51,
   "metadata": {},
   "outputs": [
    {
     "data": {
      "text/plain": [
       "(15485, 120)"
      ]
     },
     "execution_count": 51,
     "metadata": {},
     "output_type": "execute_result"
    }
   ],
   "source": [
    "df_3 = df_3.drop(['Num_Adults_HH_90306'], axis =1)\n",
    "df_3.shape"
   ]
  },
  {
   "cell_type": "markdown",
   "metadata": {},
   "source": [
    "#### Length of Residence"
   ]
  },
  {
   "cell_type": "code",
   "execution_count": 52,
   "metadata": {},
   "outputs": [
    {
     "data": {
      "text/plain": [
       "array([2, 0])"
      ]
     },
     "execution_count": 52,
     "metadata": {},
     "output_type": "execute_result"
    }
   ],
   "source": [
    "pd.DataFrame(df_3[['Length_of_Residnce_U324061', 'Len_of_Residence_90300']].apply(lambda x: x.count(), axis=1))[0].unique()"
   ]
  },
  {
   "cell_type": "code",
   "execution_count": 53,
   "metadata": {},
   "outputs": [
    {
     "data": {
      "text/plain": [
       "(15485, 119)"
      ]
     },
     "execution_count": 53,
     "metadata": {},
     "output_type": "execute_result"
    }
   ],
   "source": [
    "df_3 = df_3.drop(['Len_of_Residence_90300'], axis =1)\n",
    "df_3.shape"
   ]
  },
  {
   "cell_type": "markdown",
   "metadata": {},
   "source": [
    "#### State"
   ]
  },
  {
   "cell_type": "code",
   "execution_count": 54,
   "metadata": {},
   "outputs": [
    {
     "data": {
      "text/html": [
       "<div>\n",
       "<style>\n",
       "    .dataframe thead tr:only-child th {\n",
       "        text-align: right;\n",
       "    }\n",
       "\n",
       "    .dataframe thead th {\n",
       "        text-align: left;\n",
       "    }\n",
       "\n",
       "    .dataframe tbody tr th {\n",
       "        vertical-align: top;\n",
       "    }\n",
       "</style>\n",
       "<table border=\"1\" class=\"dataframe\">\n",
       "  <thead>\n",
       "    <tr style=\"text-align: right;\">\n",
       "      <th></th>\n",
       "      <th>State_99039</th>\n",
       "      <th>State_U324007</th>\n",
       "      <th>Numeric_State_Code_U324012</th>\n",
       "      <th>Numeric_Cty_Code_U324013</th>\n",
       "    </tr>\n",
       "    <tr>\n",
       "      <th>dataright_seq</th>\n",
       "      <th></th>\n",
       "      <th></th>\n",
       "      <th></th>\n",
       "      <th></th>\n",
       "    </tr>\n",
       "  </thead>\n",
       "  <tbody>\n",
       "    <tr>\n",
       "      <th>3014</th>\n",
       "      <td>NJ</td>\n",
       "      <td>NJ</td>\n",
       "      <td>34</td>\n",
       "      <td>31</td>\n",
       "    </tr>\n",
       "    <tr>\n",
       "      <th>5968</th>\n",
       "      <td>NY</td>\n",
       "      <td>NY</td>\n",
       "      <td>36</td>\n",
       "      <td>5</td>\n",
       "    </tr>\n",
       "    <tr>\n",
       "      <th>5809</th>\n",
       "      <td>NY</td>\n",
       "      <td>NY</td>\n",
       "      <td>36</td>\n",
       "      <td>5</td>\n",
       "    </tr>\n",
       "    <tr>\n",
       "      <th>6540</th>\n",
       "      <td>NY</td>\n",
       "      <td>NY</td>\n",
       "      <td>36</td>\n",
       "      <td>47</td>\n",
       "    </tr>\n",
       "    <tr>\n",
       "      <th>7622</th>\n",
       "      <td>NY</td>\n",
       "      <td>NY</td>\n",
       "      <td>36</td>\n",
       "      <td>103</td>\n",
       "    </tr>\n",
       "  </tbody>\n",
       "</table>\n",
       "</div>"
      ],
      "text/plain": [
       "              State_99039 State_U324007  Numeric_State_Code_U324012  \\\n",
       "dataright_seq                                                         \n",
       "3014                   NJ            NJ                          34   \n",
       "5968                   NY            NY                          36   \n",
       "5809                   NY            NY                          36   \n",
       "6540                   NY            NY                          36   \n",
       "7622                   NY            NY                          36   \n",
       "\n",
       "               Numeric_Cty_Code_U324013  \n",
       "dataright_seq                            \n",
       "3014                                 31  \n",
       "5968                                  5  \n",
       "5809                                  5  \n",
       "6540                                 47  \n",
       "7622                                103  "
      ]
     },
     "execution_count": 54,
     "metadata": {},
     "output_type": "execute_result"
    }
   ],
   "source": [
    "df_3[['State_99039', 'State_U324007',\n",
    "      'Numeric_State_Code_U324012', 'Numeric_Cty_Code_U324013']].head()"
   ]
  },
  {
   "cell_type": "code",
   "execution_count": 55,
   "metadata": {},
   "outputs": [
    {
     "data": {
      "text/plain": [
       "(15485, 116)"
      ]
     },
     "execution_count": 55,
     "metadata": {},
     "output_type": "execute_result"
    }
   ],
   "source": [
    "df_3 = df_3.drop(['State_99039', 'Numeric_State_Code_U324012', 'Numeric_Cty_Code_U324013'], axis =1)\n",
    "df_3.shape"
   ]
  },
  {
   "cell_type": "markdown",
   "metadata": {},
   "source": [
    "#### Census"
   ]
  },
  {
   "cell_type": "code",
   "execution_count": 56,
   "metadata": {},
   "outputs": [
    {
     "data": {
      "text/plain": [
       "['Cen10_Education_Lev_U324023',\n",
       " 'Cen10_Pct_White_U324025',\n",
       " 'Cen10_Pct_Hispanic_U324026',\n",
       " 'Cen10_Pct_Black_U324027',\n",
       " 'Cen10_Incom_Pctile_U324029',\n",
       " 'Cen10_Pct_Homeoner_U324030',\n",
       " 'Cen10_Med_Home_Val_U324031',\n",
       " 'Cen10_Pct_SFDU_U324032',\n",
       " 'Cen10_Pct_Mob_Homes_U324033',\n",
       " 'Cen10_Pct_BCol_Emp_U324034',\n",
       " 'Cen10_Pct_WhtColEmp_U324035',\n",
       " 'Cen10_Pct_Married_U324036',\n",
       " 'Cen10_Pct_HH_w_Chld_U324037',\n",
       " 'Cen10_Avg_Num_Auto_U324038',\n",
       " 'Cen10_MedHH_EffInc_U324039',\n",
       " 'Cen10_Pct_Divorced_U324040',\n",
       " 'Cen10_Pct_MtrVehOwn_U324041',\n",
       " 'Cen10_Pct_AbvPovrty_U324042',\n",
       " 'Cen10_Pct_BelPovLvl_U324043',\n",
       " 'Cen10_Pct_Move_2000_U324044',\n",
       " 'Cen10_Pct_Blt_2000p_U324045',\n",
       " 'Cen10_SocioEcon_Scr_U324046',\n",
       " 'Cen10_PopDen_St_Cen_U324047',\n",
       " 'Cen10_PopDen_USCent_U324048']"
      ]
     },
     "execution_count": 56,
     "metadata": {},
     "output_type": "execute_result"
    }
   ],
   "source": [
    "list([col for col in df_3 if col.startswith('Cen')])"
   ]
  },
  {
   "cell_type": "code",
   "execution_count": 57,
   "metadata": {},
   "outputs": [
    {
     "data": {
      "text/plain": [
       "[]"
      ]
     },
     "execution_count": 57,
     "metadata": {},
     "output_type": "execute_result"
    }
   ],
   "source": [
    "list([col for col in df_3 if col.startswith('Census')])"
   ]
  },
  {
   "cell_type": "markdown",
   "metadata": {},
   "source": [
    "#### Fill nan"
   ]
  },
  {
   "cell_type": "code",
   "execution_count": 58,
   "metadata": {},
   "outputs": [
    {
     "name": "stdout",
     "output_type": "stream",
     "text": [
      "(97, 1)\n"
     ]
    }
   ],
   "source": [
    "null =pd.DataFrame(df_3.isnull().sum()/df_3.shape[0], columns=['percent'])\n",
    "# null.sort_values(['percent'], ascending=False)\n",
    "print(null[null['percent']==0].shape)\n",
    "# print(null[null['percent']>0].sort_values(['percent'], ascending=False))"
   ]
  },
  {
   "cell_type": "code",
   "execution_count": 59,
   "metadata": {
    "collapsed": true
   },
   "outputs": [],
   "source": [
    "numerics=['float64', 'int64']\n",
    "objects=df_3.select_dtypes(exclude=numerics)\n",
    "numeric=df_3.select_dtypes(include=numerics)"
   ]
  },
  {
   "cell_type": "code",
   "execution_count": 60,
   "metadata": {},
   "outputs": [
    {
     "name": "stdout",
     "output_type": "stream",
     "text": [
      "(15485, 32)\n",
      "(15485, 84)\n"
     ]
    }
   ],
   "source": [
    "print(objects.shape)\n",
    "print(numeric.shape)"
   ]
  },
  {
   "cell_type": "code",
   "execution_count": 61,
   "metadata": {
    "collapsed": true
   },
   "outputs": [],
   "source": [
    "numeric = numeric.fillna(0)\n",
    "objects = objects.fillna('U')"
   ]
  },
  {
   "cell_type": "code",
   "execution_count": 62,
   "metadata": {},
   "outputs": [
    {
     "data": {
      "text/plain": [
       "Designated_Mkt_Area_U324014    0.0\n",
       "Cen10_Education_Lev_U324023    0.0\n",
       "Cen10_Pct_White_U324025        0.0\n",
       "Cen10_Pct_Hispanic_U324026     0.0\n",
       "Cen10_Pct_Black_U324027        0.0\n",
       "Cen10_Incom_Pctile_U324029     0.0\n",
       "Cen10_Pct_Homeoner_U324030     0.0\n",
       "Cen10_Med_Home_Val_U324031     0.0\n",
       "Cen10_Pct_SFDU_U324032         0.0\n",
       "Cen10_Pct_Mob_Homes_U324033    0.0\n",
       "Cen10_Pct_BCol_Emp_U324034     0.0\n",
       "Cen10_Pct_WhtColEmp_U324035    0.0\n",
       "Cen10_Pct_Married_U324036      0.0\n",
       "Cen10_Pct_HH_w_Chld_U324037    0.0\n",
       "Cen10_Avg_Num_Auto_U324038     0.0\n",
       "Cen10_MedHH_EffInc_U324039     0.0\n",
       "Cen10_Pct_Divorced_U324040     0.0\n",
       "Cen10_Pct_MtrVehOwn_U324041    0.0\n",
       "Cen10_Pct_AbvPovrty_U324042    0.0\n",
       "Cen10_Pct_BelPovLvl_U324043    0.0\n",
       "Cen10_Pct_Move_2000_U324044    0.0\n",
       "Cen10_Pct_Blt_2000p_U324045    0.0\n",
       "Cen10_SocioEcon_Scr_U324046    0.0\n",
       "Cen10_PopDen_St_Cen_U324047    0.0\n",
       "Cen10_PopDen_USCent_U324048    0.0\n",
       "Length_of_Residnce_U324061     0.0\n",
       "ZIP_Income_Decile_U324066      0.0\n",
       "Dual_Income_Indx_3_U324067     0.0\n",
       "Num_Adults_in_HH_U324071       0.0\n",
       "Num_Persons_in_HH_U324072      0.0\n",
       "                              ... \n",
       "Chan_Pref_Idx_Mail_U324546     0.0\n",
       "Chan_Pref_Index_Ph_U324547     0.0\n",
       "Chan_Pref_Idx_Text_U324548     0.0\n",
       "Chan_Pref_Indx_Web_U324549     0.0\n",
       "Uninsured_Index_U324550        0.0\n",
       "Dual_Eligible_Indx_U324551     0.0\n",
       "Hlth_Ins_Dir_PayIdx_U324552    0.0\n",
       "Singl_Srvc_Pln_Dent_U324553    0.0\n",
       "Sing_Srvc_Plan_Vis_U324554     0.0\n",
       "Sngl_Srv_Plan_Dis_U324555      0.0\n",
       "Ins_Index_Juv_Life_U324556     0.0\n",
       "Ins_Index_Final_Exp_U324557    0.0\n",
       "Ins_Idx_Pre_Funeral_U324558    0.0\n",
       "Ins_Index_Term_Life_U324559    0.0\n",
       "Ins_Index_WholeLife_U324561    0.0\n",
       "Altruist_Index_U324567         0.0\n",
       "Annuity_Resp_Index_U324568     0.0\n",
       "Hlth_Idx_MngBizHlth_U324569    0.0\n",
       "Hlth_Idx_Manag_Hlth_U324570    0.0\n",
       "Hlth_Indx_Mng_Illns_U324571    0.0\n",
       "Hlth_Idx_Hlth_Trkr_U324572     0.0\n",
       "Medicar_SpInsByrIdx_U324604    0.0\n",
       "Smart_HHs_Appliance_U324605    0.0\n",
       "Smart_HHs_Security_U324606     0.0\n",
       "Digital_Dest_Groups_U324611    0.0\n",
       "Digital_Devices_U324612        0.0\n",
       "Digital_Destination_U324613    0.0\n",
       "Digi_Neighborhoods_U324614     0.0\n",
       "Mult_HlthBeh_Ch_Idx_U324615    0.0\n",
       "Sust_Hlth_BehCh_Idx_U324616    0.0\n",
       "Length: 84, dtype: float64"
      ]
     },
     "execution_count": 62,
     "metadata": {},
     "output_type": "execute_result"
    }
   ],
   "source": [
    "numeric.isnull().sum()/numeric.shape[0]"
   ]
  },
  {
   "cell_type": "code",
   "execution_count": 63,
   "metadata": {},
   "outputs": [
    {
     "data": {
      "text/plain": [
       "Dwelling_Type_90302            0.0\n",
       "Age_Range_90305                0.0\n",
       "Race_Code_90308                0.0\n",
       "Est_HH_Income_90309            0.0\n",
       "Home_Market_Value_90310        0.0\n",
       "BnkCrd_Pres_in_HH_90313        0.0\n",
       "Nielsen_County_Sz_U324016      0.0\n",
       "Gender_U324057                 0.0\n",
       "Family_PositionCode_U324059    0.0\n",
       "Homeowner_Status_U324062       0.0\n",
       "Net_Worth_3_U324065            0.0\n",
       "Mail_Order_Respnder_U324068    0.0\n",
       "Online_Access_U324085          0.0\n",
       "Bank_Card_U324099              0.0\n",
       "Email_Access_U324134           0.0\n",
       "Est_HH_Debt_Level_U324161      0.0\n",
       "Est_HH_Invest_Asset_U324162    0.0\n",
       "Byr_Ret_DataPresent_U324525    0.0\n",
       "Generations_2_U324527          0.0\n",
       "Chan_Pref_FirstPref_U324542    0.0\n",
       "Chan_Pref_Scnd_Pref_U324543    0.0\n",
       "Ins_Amount_TermLife_U324560    0.0\n",
       "Ins_Amt_Whole_Life_U324562     0.0\n",
       "AtoHmeIns_PrchDstCh_U324563    0.0\n",
       "AutoHomeIns_Qte_Chn_U324564    0.0\n",
       "LifeIns_Prch_DstChn_U324565    0.0\n",
       "Life_Ins_Qt_Dst_Chn_U324566    0.0\n",
       "Religion_U324573               0.0\n",
       "Ethnic_Group_U324576           0.0\n",
       "Hlthcare_Treat_Pref_U324603    0.0\n",
       "State_U324007                  0.0\n",
       "tag                            0.0\n",
       "dtype: float64"
      ]
     },
     "execution_count": 63,
     "metadata": {},
     "output_type": "execute_result"
    }
   ],
   "source": [
    "objects.isnull().sum()/objects.shape[0]"
   ]
  },
  {
   "cell_type": "markdown",
   "metadata": {},
   "source": [
    "#### Label Encoder"
   ]
  },
  {
   "cell_type": "code",
   "execution_count": 64,
   "metadata": {
    "collapsed": true
   },
   "outputs": [],
   "source": [
    "from sklearn.preprocessing import LabelEncoder\n",
    "\n",
    "def label(df, column_name):\n",
    "    le = LabelEncoder()\n",
    "    print(column_name, ':')\n",
    "    print(list(df[column_name].unique()))\n",
    "    values = list(df[column_name].unique())\n",
    "    objects[column_name] = le.fit(list(df[column_name].unique())).transform(df[column_name])\n",
    "    print(list(df[column_name].unique()))\n",
    "    keys = list(df[column_name].unique())\n",
    "    dictionary = dict(zip(keys, values))\n",
    "    return dictionary"
   ]
  },
  {
   "cell_type": "code",
   "execution_count": 65,
   "metadata": {},
   "outputs": [
    {
     "name": "stdout",
     "output_type": "stream",
     "text": [
      "Dwelling_Type_90302 :\n",
      "['S', 'M', 'U']\n",
      "[1, 0, 2]\n",
      "Age_Range_90305 :\n",
      "['E', 'D', 'C', 'G', 'A', 'F', 'B']\n",
      "[4, 3, 2, 6, 0, 5, 1]\n",
      "Race_Code_90308 :\n",
      "['H', 'B', 'W', 'U', 'A']\n",
      "[2, 1, 4, 3, 0]\n",
      "Est_HH_Income_90309 :\n",
      "['B', 'A', 'D', 'E', 'G', 'H', 'F', 'C']\n",
      "[1, 0, 3, 4, 6, 7, 5, 2]\n",
      "Home_Market_Value_90310 :\n",
      "['E', 'A', 'F', 'G', 'D', 'H', 'I', 'J', 'B', 'C', 'K', 'L']\n",
      "[4, 0, 5, 6, 3, 7, 8, 9, 1, 2, 10, 11]\n",
      "BnkCrd_Pres_in_HH_90313 :\n",
      "['U', 'Y']\n",
      "[0, 1]\n",
      "Nielsen_County_Sz_U324016 :\n",
      "['A', 'B', 'C', 'D']\n",
      "[0, 1, 2, 3]\n",
      "Gender_U324057 :\n",
      "['M', 'F']\n",
      "[1, 0]\n",
      "Family_PositionCode_U324059 :\n",
      "['O', 'M', 'F', 'H', 'C', 'W', 'G', 'P']\n",
      "[5, 4, 1, 3, 0, 7, 2, 6]\n",
      "Homeowner_Status_U324062 :\n",
      "['U', 'R', 'T', 'Y', 'P']\n",
      "[3, 1, 2, 4, 0]\n",
      "Net_Worth_3_U324065 :\n",
      "['A', 'E', 'J', 'K', 'G', 'L', 'M', 'I', 'F', 'B', 'H', 'C', 'D']\n",
      "[0, 4, 9, 10, 6, 11, 12, 8, 5, 1, 7, 2, 3]\n",
      "Mail_Order_Respnder_U324068 :\n",
      "['U', 'M', 'Y']\n",
      "[1, 0, 2]\n",
      "Online_Access_U324085 :\n",
      "['U', 'Y']\n",
      "[0, 1]\n",
      "Bank_Card_U324099 :\n",
      "['U', 'Y', 'M']\n",
      "[1, 2, 0]\n",
      "Email_Access_U324134 :\n",
      "['U', 'Y']\n",
      "[0, 1]\n",
      "Est_HH_Debt_Level_U324161 :\n",
      "['B', 'C', 'I', 'F', 'E', 'H', 'G', 'D', 'A']\n",
      "[1, 2, 8, 5, 4, 7, 6, 3, 0]\n",
      "Est_HH_Invest_Asset_U324162 :\n",
      "['A', 'B', 'G', 'C', 'H', 'J', 'F', 'I', 'E', 'D']\n",
      "[0, 1, 6, 2, 7, 9, 5, 8, 4, 3]\n",
      "Byr_Ret_DataPresent_U324525 :\n",
      "['U', 'Y']\n",
      "[0, 1]\n",
      "Generations_2_U324527 :\n",
      "['L4', 'G8', 'M5', 'G5', 'G2', 'S6', 'M7', 'L6', 'S5', 'L1', 'U', 'M2', 'G4', 'T6', 'L5', 'T5', 'L2', 'S8', 'M4', 'T3', 'L3', 'M1', 'T7', 'S4', 'T4', 'S2', 'S1', 'S7', 'T1', 'S3', 'M3', 'G7', 'M6', 'G6', 'G1', 'T2', 'G3']\n",
      "[11, 7, 18, 4, 1, 26, 20, 13, 25, 8, 36, 15, 3, 34, 12, 33, 9, 28, 17, 31, 10, 14, 35, 24, 32, 22, 21, 27, 29, 23, 16, 6, 19, 5, 0, 30, 2]\n",
      "Chan_Pref_FirstPref_U324542 :\n",
      "['P', 'C', 'T', 'E', 'W', 'M']\n",
      "[3, 0, 4, 1, 5, 2]\n",
      "Chan_Pref_Scnd_Pref_U324543 :\n",
      "['C', 'T', 'E', 'M', 'P', 'W']\n",
      "[0, 4, 1, 2, 3, 5]\n",
      "Ins_Amount_TermLife_U324560 :\n",
      "['A', 'B', 'C', 'E', 'D']\n",
      "[0, 1, 2, 4, 3]\n",
      "Ins_Amt_Whole_Life_U324562 :\n",
      "['A', 'B', 'C', 'E', 'D']\n",
      "[0, 1, 2, 4, 3]\n",
      "AtoHmeIns_PrchDstCh_U324563 :\n",
      "['D', 'O', 'A']\n",
      "[1, 2, 0]\n",
      "AutoHomeIns_Qte_Chn_U324564 :\n",
      "['D', 'O', 'A']\n",
      "[1, 2, 0]\n",
      "LifeIns_Prch_DstChn_U324565 :\n",
      "['O', 'A', 'D']\n",
      "[2, 0, 1]\n",
      "Life_Ins_Qt_Dst_Chn_U324566 :\n",
      "['O', 'D', 'A']\n",
      "[2, 1, 0]\n",
      "Religion_U324573 :\n",
      "['C', 'P', 'O', 'J', 'U', 'K', 'H', 'M', 'I', 'B', 'E', 'L', 'S']\n",
      "[1, 10, 9, 5, 12, 6, 3, 8, 4, 0, 2, 7, 11]\n",
      "Ethnic_Group_U324576 :\n",
      "['O', 'A', 'K', 'E', 'L', 'U', 'G', 'J', 'C', 'I', 'B', 'N', 'D', 'M', 'F', 'H']\n",
      "[14, 0, 10, 4, 11, 15, 6, 9, 2, 8, 1, 13, 3, 12, 5, 7]\n",
      "Hlthcare_Treat_Pref_U324603 :\n",
      "['P', 'H', 'O', 'C']\n",
      "[3, 1, 2, 0]\n",
      "State_U324007 :\n",
      "['NJ', 'NY', 'CT', 'CA', 'IL', 'PA', 'MA', 'MD', 'VA', 'GA', 'TX', 'NC', 'FL', 'TN', 'LA', 'MI', 'OH', 'WI', 'MO', 'KS', 'UT', 'CO', 'AZ', 'OR', 'SC', 'AL', 'NE', 'WA', 'KY', 'MS', 'ND', 'IA', 'WV', 'OK', 'NV', 'IN', 'ID', 'DE', 'NH', 'RI', 'MN', 'ME', 'AR', 'DC', 'VT', 'MT', 'NM', 'WY', 'SD']\n",
      "[29, 32, 5, 3, 12, 36, 17, 18, 43, 9, 41, 25, 8, 40, 16, 20, 33, 46, 22, 14, 42, 4, 2, 35, 38, 0, 27, 45, 15, 23, 26, 10, 47, 34, 31, 13, 11, 7, 28, 37, 21, 19, 1, 6, 44, 24, 30, 48, 39]\n",
      "tag :\n",
      "['big', 'low', 'both']\n",
      "[0, 2, 1]\n"
     ]
    }
   ],
   "source": [
    "columns_dic = {}\n",
    "objects_columns = list(objects.columns)\n",
    "for i in objects_columns:\n",
    "    a = i\n",
    "    dic = label(objects, i)\n",
    "    columns_dic[a] = dic"
   ]
  },
  {
   "cell_type": "markdown",
   "metadata": {},
   "source": [
    "### Create dataset"
   ]
  },
  {
   "cell_type": "code",
   "execution_count": 66,
   "metadata": {
    "collapsed": true
   },
   "outputs": [],
   "source": [
    "df_4 = pd.concat([numeric, objects], axis=1)"
   ]
  },
  {
   "cell_type": "code",
   "execution_count": 67,
   "metadata": {},
   "outputs": [
    {
     "data": {
      "text/plain": [
       "(15485, 116)"
      ]
     },
     "execution_count": 67,
     "metadata": {},
     "output_type": "execute_result"
    }
   ],
   "source": [
    "df_4.shape"
   ]
  },
  {
   "cell_type": "code",
   "execution_count": 68,
   "metadata": {
    "collapsed": true
   },
   "outputs": [],
   "source": [
    "# directory = pd.read_csv('dictionary.csv', header=None)\n",
    "# directory.head()"
   ]
  },
  {
   "cell_type": "code",
   "execution_count": 69,
   "metadata": {
    "collapsed": true
   },
   "outputs": [],
   "source": [
    "# directory[directory.iloc[:,3].isin(columns)].to_csv('new_directroy.csv')"
   ]
  },
  {
   "cell_type": "code",
   "execution_count": 70,
   "metadata": {
    "collapsed": true
   },
   "outputs": [],
   "source": [
    "from sklearn.tree import DecisionTreeClassifier\n",
    "from sklearn.ensemble import RandomForestClassifier\n",
    "\n",
    "from sklearn.model_selection import train_test_split\n",
    "\n",
    "from sklearn.metrics import f1_score, accuracy_score"
   ]
  },
  {
   "cell_type": "code",
   "execution_count": 71,
   "metadata": {
    "collapsed": true
   },
   "outputs": [],
   "source": [
    "y = df_3['tag'].map(lambda x: 1 if x == 'low' else (2 if x=='big' else 3))\n",
    "x = df_4.drop(['tag'], axis=1)"
   ]
  },
  {
   "cell_type": "code",
   "execution_count": 72,
   "metadata": {
    "collapsed": true
   },
   "outputs": [],
   "source": [
    "xtrain, xtest, ytrain,ytest=train_test_split(x, y, random_state=30, test_size=0.3)"
   ]
  },
  {
   "cell_type": "code",
   "execution_count": 73,
   "metadata": {
    "collapsed": true
   },
   "outputs": [],
   "source": [
    "def model(model, trainx, trainy, testx, testy):\n",
    "    model = model.fit(trainx, trainy)\n",
    "    predict_test = model.predict(testx)\n",
    "    predict_train = model.predict(trainx)\n",
    "    \n",
    "    print('f1 socre(train)', accuracy_score(trainy, predict_train))\n",
    "    print('f1 socre(test)', accuracy_score(testy, predict_test))\n",
    "    "
   ]
  },
  {
   "cell_type": "code",
   "execution_count": 74,
   "metadata": {},
   "outputs": [
    {
     "name": "stdout",
     "output_type": "stream",
     "text": [
      "f1 socre(train) 1.0\n",
      "f1 socre(test) 0.503228583727938\n"
     ]
    }
   ],
   "source": [
    "model(DecisionTreeClassifier(), xtrain, ytrain, xtest, ytest)"
   ]
  },
  {
   "cell_type": "code",
   "execution_count": 75,
   "metadata": {},
   "outputs": [
    {
     "name": "stdout",
     "output_type": "stream",
     "text": [
      "f1 socre(train) 0.9828397453639635\n",
      "f1 socre(test) 0.5497201894102454\n"
     ]
    }
   ],
   "source": [
    "model(RandomForestClassifier(), xtrain, ytrain, xtest, ytest)"
   ]
  },
  {
   "cell_type": "code",
   "execution_count": 76,
   "metadata": {},
   "outputs": [
    {
     "name": "stderr",
     "output_type": "stream",
     "text": [
      "/Users/lana/anaconda3/lib/python3.6/site-packages/sklearn/cross_validation.py:41: DeprecationWarning: This module was deprecated in version 0.18 in favor of the model_selection module into which all the refactored classes and functions are moved. Also note that the interface of the new CV iterators are different from that of this module. This module will be removed in 0.20.\n",
      "  \"This module will be removed in 0.20.\", DeprecationWarning)\n",
      "/Users/lana/anaconda3/lib/python3.6/site-packages/sklearn/grid_search.py:42: DeprecationWarning: This module was deprecated in version 0.18 in favor of the model_selection module into which all the refactored classes and functions are moved. This module will be removed in 0.20.\n",
      "  DeprecationWarning)\n"
     ]
    }
   ],
   "source": [
    "from sklearn.grid_search import GridSearchCV\n",
    "\n",
    "def gridSearch(parameters, model, x, y):\n",
    "    gridsearch = GridSearchCV(model, parameters, scoring = 'accuracy', cv = 3)\n",
    "    gridsearch.fit(x, y)\n",
    "    \n",
    "    print(\"Best parameters: {}\".format(gridsearch.best_params_))\n",
    "    print(\"Best cross-validation AUC: {:.4f}\".format(gridsearch.best_score_))"
   ]
  },
  {
   "cell_type": "code",
   "execution_count": 77,
   "metadata": {
    "collapsed": true
   },
   "outputs": [],
   "source": [
    "max_depths = np.linspace(5, 30, 6, endpoint=True)\n",
    "min_samples_splits = np.linspace(0.1, 1.0, 10, endpoint=True)\n",
    "tree_param={\"max_depth\":max_depths,\n",
    "          'min_samples_split':min_samples_splits}"
   ]
  },
  {
   "cell_type": "code",
   "execution_count": 78,
   "metadata": {},
   "outputs": [
    {
     "data": {
      "text/plain": [
       "{'max_depth': array([ 5., 10., 15., 20., 25., 30.]),\n",
       " 'min_samples_split': array([0.1, 0.2, 0.3, 0.4, 0.5, 0.6, 0.7, 0.8, 0.9, 1. ])}"
      ]
     },
     "execution_count": 78,
     "metadata": {},
     "output_type": "execute_result"
    }
   ],
   "source": [
    "tree_param"
   ]
  },
  {
   "cell_type": "code",
   "execution_count": 79,
   "metadata": {},
   "outputs": [
    {
     "name": "stdout",
     "output_type": "stream",
     "text": [
      "Best parameters: {'max_depth': 5.0, 'min_samples_split': 0.2}\n",
      "Best cross-validation AUC: 0.5676\n"
     ]
    }
   ],
   "source": [
    "gridSearch(tree_param, DecisionTreeClassifier(), xtrain, ytrain)"
   ]
  },
  {
   "cell_type": "code",
   "execution_count": 80,
   "metadata": {},
   "outputs": [
    {
     "name": "stdout",
     "output_type": "stream",
     "text": [
      "f1 socre(train) 0.5725620444690469\n",
      "f1 socre(test) 0.5602668962548428\n"
     ]
    }
   ],
   "source": [
    "model(DecisionTreeClassifier(max_depth = 5, min_samples_split = 0.2), xtrain, ytrain, xtest, ytest)"
   ]
  },
  {
   "cell_type": "code",
   "execution_count": 81,
   "metadata": {
    "collapsed": true
   },
   "outputs": [],
   "source": [
    "randomforest_param={\"n_estimators\":[10,20,30,50],\n",
    "           \"max_depth\":[5, 10,15,20]}"
   ]
  },
  {
   "cell_type": "code",
   "execution_count": 82,
   "metadata": {},
   "outputs": [
    {
     "name": "stdout",
     "output_type": "stream",
     "text": [
      "Best parameters: {'max_depth': 5, 'n_estimators': 50}\n",
      "Best cross-validation AUC: 0.5731\n"
     ]
    }
   ],
   "source": [
    "gridSearch(randomforest_param, RandomForestClassifier(), xtrain, ytrain)"
   ]
  },
  {
   "cell_type": "code",
   "execution_count": 83,
   "metadata": {},
   "outputs": [
    {
     "name": "stdout",
     "output_type": "stream",
     "text": [
      "f1 socre(train) 0.602177322631239\n",
      "f1 socre(test) 0.5708136030994404\n"
     ]
    }
   ],
   "source": [
    "model(RandomForestClassifier(max_depth = 5, n_estimators = 50), xtrain, ytrain, xtest, ytest)"
   ]
  },
  {
   "cell_type": "code",
   "execution_count": 84,
   "metadata": {
    "collapsed": true
   },
   "outputs": [],
   "source": [
    "rf = RandomForestClassifier(max_depth = 5, n_estimators = 50).fit(xtrain, ytrain)"
   ]
  },
  {
   "cell_type": "code",
   "execution_count": 90,
   "metadata": {
    "collapsed": true
   },
   "outputs": [],
   "source": [
    "feature_importances = pd.DataFrame(rf.feature_importances_,\n",
    "                                   index = xtrain.columns,\n",
    "                                    columns=['importance']).sort_values('importance', ascending=False)"
   ]
  },
  {
   "cell_type": "code",
   "execution_count": 91,
   "metadata": {
    "scrolled": true
   },
   "outputs": [
    {
     "data": {
      "text/html": [
       "<div>\n",
       "<style>\n",
       "    .dataframe thead tr:only-child th {\n",
       "        text-align: right;\n",
       "    }\n",
       "\n",
       "    .dataframe thead th {\n",
       "        text-align: left;\n",
       "    }\n",
       "\n",
       "    .dataframe tbody tr th {\n",
       "        vertical-align: top;\n",
       "    }\n",
       "</style>\n",
       "<table border=\"1\" class=\"dataframe\">\n",
       "  <thead>\n",
       "    <tr style=\"text-align: right;\">\n",
       "      <th></th>\n",
       "      <th>importance</th>\n",
       "    </tr>\n",
       "  </thead>\n",
       "  <tbody>\n",
       "    <tr>\n",
       "      <th>Designated_Mkt_Area_U324014</th>\n",
       "      <td>0.085863</td>\n",
       "    </tr>\n",
       "    <tr>\n",
       "      <th>Cen10_Med_Home_Val_U324031</th>\n",
       "      <td>0.049426</td>\n",
       "    </tr>\n",
       "    <tr>\n",
       "      <th>Hlth_Ins_Infl_Index_U324541</th>\n",
       "      <td>0.030584</td>\n",
       "    </tr>\n",
       "    <tr>\n",
       "      <th>Cen10_SocioEcon_Scr_U324046</th>\n",
       "      <td>0.024162</td>\n",
       "    </tr>\n",
       "    <tr>\n",
       "      <th>Cen10_Pct_Mob_Homes_U324033</th>\n",
       "      <td>0.023975</td>\n",
       "    </tr>\n",
       "    <tr>\n",
       "      <th>Cen10_Avg_Num_Auto_U324038</th>\n",
       "      <td>0.022381</td>\n",
       "    </tr>\n",
       "    <tr>\n",
       "      <th>Home_Val_AddrLevel_U324158</th>\n",
       "      <td>0.021312</td>\n",
       "    </tr>\n",
       "    <tr>\n",
       "      <th>Cen10_Pct_White_U324025</th>\n",
       "      <td>0.020656</td>\n",
       "    </tr>\n",
       "    <tr>\n",
       "      <th>Cen10_PopDen_USCent_U324048</th>\n",
       "      <td>0.019395</td>\n",
       "    </tr>\n",
       "    <tr>\n",
       "      <th>Est_HH_Income_90309</th>\n",
       "      <td>0.019276</td>\n",
       "    </tr>\n",
       "    <tr>\n",
       "      <th>Race_Code_90308</th>\n",
       "      <td>0.019271</td>\n",
       "    </tr>\n",
       "    <tr>\n",
       "      <th>Cen10_Pct_Black_U324027</th>\n",
       "      <td>0.018349</td>\n",
       "    </tr>\n",
       "    <tr>\n",
       "      <th>Cen10_Pct_MtrVehOwn_U324041</th>\n",
       "      <td>0.018062</td>\n",
       "    </tr>\n",
       "    <tr>\n",
       "      <th>Ethnic_Group_U324576</th>\n",
       "      <td>0.017736</td>\n",
       "    </tr>\n",
       "    <tr>\n",
       "      <th>Nielsen_County_Sz_U324016</th>\n",
       "      <td>0.017292</td>\n",
       "    </tr>\n",
       "    <tr>\n",
       "      <th>Ins_Amt_Whole_Life_U324562</th>\n",
       "      <td>0.016817</td>\n",
       "    </tr>\n",
       "    <tr>\n",
       "      <th>Cen10_Pct_WhtColEmp_U324035</th>\n",
       "      <td>0.016450</td>\n",
       "    </tr>\n",
       "    <tr>\n",
       "      <th>Pct_HlthcreUninsEst_U324535</th>\n",
       "      <td>0.016116</td>\n",
       "    </tr>\n",
       "    <tr>\n",
       "      <th>Medicare_Advtge_Pct_U324529</th>\n",
       "      <td>0.015915</td>\n",
       "    </tr>\n",
       "    <tr>\n",
       "      <th>Cen10_Pct_Blt_2000p_U324045</th>\n",
       "      <td>0.015667</td>\n",
       "    </tr>\n",
       "    <tr>\n",
       "      <th>Cen10_MedHH_EffInc_U324039</th>\n",
       "      <td>0.015423</td>\n",
       "    </tr>\n",
       "    <tr>\n",
       "      <th>Home_Market_Value_90310</th>\n",
       "      <td>0.013117</td>\n",
       "    </tr>\n",
       "    <tr>\n",
       "      <th>Cen10_Education_Lev_U324023</th>\n",
       "      <td>0.013077</td>\n",
       "    </tr>\n",
       "    <tr>\n",
       "      <th>State_U324007</th>\n",
       "      <td>0.013005</td>\n",
       "    </tr>\n",
       "    <tr>\n",
       "      <th>Sing_Srvc_Plan_Vis_U324554</th>\n",
       "      <td>0.012961</td>\n",
       "    </tr>\n",
       "    <tr>\n",
       "      <th>Cen10_PopDen_St_Cen_U324047</th>\n",
       "      <td>0.012452</td>\n",
       "    </tr>\n",
       "    <tr>\n",
       "      <th>Net_Worth_3_U324065</th>\n",
       "      <td>0.012402</td>\n",
       "    </tr>\n",
       "    <tr>\n",
       "      <th>Cen10_Pct_Homeoner_U324030</th>\n",
       "      <td>0.012094</td>\n",
       "    </tr>\n",
       "    <tr>\n",
       "      <th>Ins_Amount_TermLife_U324560</th>\n",
       "      <td>0.011726</td>\n",
       "    </tr>\n",
       "    <tr>\n",
       "      <th>Cen10_Pct_SFDU_U324032</th>\n",
       "      <td>0.010464</td>\n",
       "    </tr>\n",
       "    <tr>\n",
       "      <th>...</th>\n",
       "      <td>...</td>\n",
       "    </tr>\n",
       "    <tr>\n",
       "      <th>Byr_Cat_Total_Ordrs_U324419</th>\n",
       "      <td>0.003521</td>\n",
       "    </tr>\n",
       "    <tr>\n",
       "      <th>Hlth_Indx_Mng_Illns_U324571</th>\n",
       "      <td>0.003512</td>\n",
       "    </tr>\n",
       "    <tr>\n",
       "      <th>Byr_Cat_Avg_Onl_Dol_U324426</th>\n",
       "      <td>0.003448</td>\n",
       "    </tr>\n",
       "    <tr>\n",
       "      <th>Ins_Resp_Index_Auto_U324539</th>\n",
       "      <td>0.003219</td>\n",
       "    </tr>\n",
       "    <tr>\n",
       "      <th>Byr_Cat_Online_Ords_U324421</th>\n",
       "      <td>0.003003</td>\n",
       "    </tr>\n",
       "    <tr>\n",
       "      <th>Ins_Index_Term_Life_U324559</th>\n",
       "      <td>0.003001</td>\n",
       "    </tr>\n",
       "    <tr>\n",
       "      <th>Dual_Eligible_Indx_U324551</th>\n",
       "      <td>0.002948</td>\n",
       "    </tr>\n",
       "    <tr>\n",
       "      <th>Ins_Resp_Index_Life_U324537</th>\n",
       "      <td>0.002903</td>\n",
       "    </tr>\n",
       "    <tr>\n",
       "      <th>Chan_Pref_Idx_Text_U324548</th>\n",
       "      <td>0.002670</td>\n",
       "    </tr>\n",
       "    <tr>\n",
       "      <th>Digi_Neighborhoods_U324614</th>\n",
       "      <td>0.002667</td>\n",
       "    </tr>\n",
       "    <tr>\n",
       "      <th>Number_Children_U324074</th>\n",
       "      <td>0.002415</td>\n",
       "    </tr>\n",
       "    <tr>\n",
       "      <th>Byr_Ret_Orders_U324481</th>\n",
       "      <td>0.002408</td>\n",
       "    </tr>\n",
       "    <tr>\n",
       "      <th>AtoHmeIns_PrchDstCh_U324563</th>\n",
       "      <td>0.002353</td>\n",
       "    </tr>\n",
       "    <tr>\n",
       "      <th>Ins_Index_WholeLife_U324561</th>\n",
       "      <td>0.002244</td>\n",
       "    </tr>\n",
       "    <tr>\n",
       "      <th>Age_Range_90305</th>\n",
       "      <td>0.001958</td>\n",
       "    </tr>\n",
       "    <tr>\n",
       "      <th>Num_Adults_in_HH_U324071</th>\n",
       "      <td>0.001848</td>\n",
       "    </tr>\n",
       "    <tr>\n",
       "      <th>Annuity_Resp_Index_U324568</th>\n",
       "      <td>0.001742</td>\n",
       "    </tr>\n",
       "    <tr>\n",
       "      <th>Uninsured_Index_U324550</th>\n",
       "      <td>0.001495</td>\n",
       "    </tr>\n",
       "    <tr>\n",
       "      <th>Homeowner_Status_U324062</th>\n",
       "      <td>0.001192</td>\n",
       "    </tr>\n",
       "    <tr>\n",
       "      <th>Hlthcare_Treat_Pref_U324603</th>\n",
       "      <td>0.001184</td>\n",
       "    </tr>\n",
       "    <tr>\n",
       "      <th>Email_Access_U324134</th>\n",
       "      <td>0.001145</td>\n",
       "    </tr>\n",
       "    <tr>\n",
       "      <th>Chan_Pref_Scnd_Pref_U324543</th>\n",
       "      <td>0.001122</td>\n",
       "    </tr>\n",
       "    <tr>\n",
       "      <th>LifeIns_Prch_DstChn_U324565</th>\n",
       "      <td>0.000962</td>\n",
       "    </tr>\n",
       "    <tr>\n",
       "      <th>Gender_U324057</th>\n",
       "      <td>0.000952</td>\n",
       "    </tr>\n",
       "    <tr>\n",
       "      <th>Dwelling_Type_90302</th>\n",
       "      <td>0.000800</td>\n",
       "    </tr>\n",
       "    <tr>\n",
       "      <th>Bank_Card_U324099</th>\n",
       "      <td>0.000612</td>\n",
       "    </tr>\n",
       "    <tr>\n",
       "      <th>Byr_Ret_DataPresent_U324525</th>\n",
       "      <td>0.000484</td>\n",
       "    </tr>\n",
       "    <tr>\n",
       "      <th>Online_Access_U324085</th>\n",
       "      <td>0.000000</td>\n",
       "    </tr>\n",
       "    <tr>\n",
       "      <th>Mail_Order_Respnder_U324068</th>\n",
       "      <td>0.000000</td>\n",
       "    </tr>\n",
       "    <tr>\n",
       "      <th>BnkCrd_Pres_in_HH_90313</th>\n",
       "      <td>0.000000</td>\n",
       "    </tr>\n",
       "  </tbody>\n",
       "</table>\n",
       "<p>115 rows × 1 columns</p>\n",
       "</div>"
      ],
      "text/plain": [
       "                             importance\n",
       "Designated_Mkt_Area_U324014    0.085863\n",
       "Cen10_Med_Home_Val_U324031     0.049426\n",
       "Hlth_Ins_Infl_Index_U324541    0.030584\n",
       "Cen10_SocioEcon_Scr_U324046    0.024162\n",
       "Cen10_Pct_Mob_Homes_U324033    0.023975\n",
       "Cen10_Avg_Num_Auto_U324038     0.022381\n",
       "Home_Val_AddrLevel_U324158     0.021312\n",
       "Cen10_Pct_White_U324025        0.020656\n",
       "Cen10_PopDen_USCent_U324048    0.019395\n",
       "Est_HH_Income_90309            0.019276\n",
       "Race_Code_90308                0.019271\n",
       "Cen10_Pct_Black_U324027        0.018349\n",
       "Cen10_Pct_MtrVehOwn_U324041    0.018062\n",
       "Ethnic_Group_U324576           0.017736\n",
       "Nielsen_County_Sz_U324016      0.017292\n",
       "Ins_Amt_Whole_Life_U324562     0.016817\n",
       "Cen10_Pct_WhtColEmp_U324035    0.016450\n",
       "Pct_HlthcreUninsEst_U324535    0.016116\n",
       "Medicare_Advtge_Pct_U324529    0.015915\n",
       "Cen10_Pct_Blt_2000p_U324045    0.015667\n",
       "Cen10_MedHH_EffInc_U324039     0.015423\n",
       "Home_Market_Value_90310        0.013117\n",
       "Cen10_Education_Lev_U324023    0.013077\n",
       "State_U324007                  0.013005\n",
       "Sing_Srvc_Plan_Vis_U324554     0.012961\n",
       "Cen10_PopDen_St_Cen_U324047    0.012452\n",
       "Net_Worth_3_U324065            0.012402\n",
       "Cen10_Pct_Homeoner_U324030     0.012094\n",
       "Ins_Amount_TermLife_U324560    0.011726\n",
       "Cen10_Pct_SFDU_U324032         0.010464\n",
       "...                                 ...\n",
       "Byr_Cat_Total_Ordrs_U324419    0.003521\n",
       "Hlth_Indx_Mng_Illns_U324571    0.003512\n",
       "Byr_Cat_Avg_Onl_Dol_U324426    0.003448\n",
       "Ins_Resp_Index_Auto_U324539    0.003219\n",
       "Byr_Cat_Online_Ords_U324421    0.003003\n",
       "Ins_Index_Term_Life_U324559    0.003001\n",
       "Dual_Eligible_Indx_U324551     0.002948\n",
       "Ins_Resp_Index_Life_U324537    0.002903\n",
       "Chan_Pref_Idx_Text_U324548     0.002670\n",
       "Digi_Neighborhoods_U324614     0.002667\n",
       "Number_Children_U324074        0.002415\n",
       "Byr_Ret_Orders_U324481         0.002408\n",
       "AtoHmeIns_PrchDstCh_U324563    0.002353\n",
       "Ins_Index_WholeLife_U324561    0.002244\n",
       "Age_Range_90305                0.001958\n",
       "Num_Adults_in_HH_U324071       0.001848\n",
       "Annuity_Resp_Index_U324568     0.001742\n",
       "Uninsured_Index_U324550        0.001495\n",
       "Homeowner_Status_U324062       0.001192\n",
       "Hlthcare_Treat_Pref_U324603    0.001184\n",
       "Email_Access_U324134           0.001145\n",
       "Chan_Pref_Scnd_Pref_U324543    0.001122\n",
       "LifeIns_Prch_DstChn_U324565    0.000962\n",
       "Gender_U324057                 0.000952\n",
       "Dwelling_Type_90302            0.000800\n",
       "Bank_Card_U324099              0.000612\n",
       "Byr_Ret_DataPresent_U324525    0.000484\n",
       "Online_Access_U324085          0.000000\n",
       "Mail_Order_Respnder_U324068    0.000000\n",
       "BnkCrd_Pres_in_HH_90313        0.000000\n",
       "\n",
       "[115 rows x 1 columns]"
      ]
     },
     "execution_count": 91,
     "metadata": {},
     "output_type": "execute_result"
    }
   ],
   "source": [
    "feature_importances"
   ]
  },
  {
   "cell_type": "code",
   "execution_count": 87,
   "metadata": {
    "collapsed": true
   },
   "outputs": [],
   "source": [
    "dt = DecisionTreeClassifier(max_depth = 5, min_samples_split = 0.2).fit(xtrain, ytrain)"
   ]
  },
  {
   "cell_type": "code",
   "execution_count": 88,
   "metadata": {
    "collapsed": true
   },
   "outputs": [],
   "source": [
    "from sklearn import tree"
   ]
  },
  {
   "cell_type": "code",
   "execution_count": 89,
   "metadata": {
    "collapsed": true
   },
   "outputs": [],
   "source": [
    "tree.export_graphviz(dt, out_file='tree.dot', feature_names = xtrain.columns)  "
   ]
  },
  {
   "cell_type": "code",
   "execution_count": null,
   "metadata": {
    "collapsed": true
   },
   "outputs": [],
   "source": []
  },
  {
   "cell_type": "code",
   "execution_count": null,
   "metadata": {
    "collapsed": true
   },
   "outputs": [],
   "source": []
  }
 ],
 "metadata": {
  "kernelspec": {
   "display_name": "Python 3",
   "language": "python",
   "name": "python3"
  },
  "language_info": {
   "codemirror_mode": {
    "name": "ipython",
    "version": 3
   },
   "file_extension": ".py",
   "mimetype": "text/x-python",
   "name": "python",
   "nbconvert_exporter": "python",
   "pygments_lexer": "ipython3",
   "version": "3.6.5"
  }
 },
 "nbformat": 4,
 "nbformat_minor": 2
}
